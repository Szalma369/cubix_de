{
 "cells": [
  {
   "cell_type": "code",
   "execution_count": 16,
   "id": "205a7612-2f90-49de-be1c-fd88ccc0b1ba",
   "metadata": {},
   "outputs": [],
   "source": [
    "# 1.Download the playlist.json from the shared folder, open it with Python.\n",
    "\n",
    "import json"
   ]
  },
  {
   "cell_type": "code",
   "execution_count": 17,
   "id": "1c1b926e-edbd-4771-b59b-40c7f52c2aba",
   "metadata": {},
   "outputs": [],
   "source": [
    "file_path = r'C:\\Users\\marto\\Desktop\\Data Analytics\\4. Python\\CUBIX\\Data Engineer\\json_handling\\spotify_playlist.json'\n",
    "\n",
    "with open(file_path, 'r') as json_file:\n",
    "    data = json.load(json_file)"
   ]
  },
  {
   "cell_type": "code",
   "execution_count": 62,
   "id": "9f0ffe17-b4c0-46f4-9cd7-dd3d655d4b1e",
   "metadata": {},
   "outputs": [
    {
     "data": {
      "text/plain": [
       "'Style'"
      ]
     },
     "execution_count": 62,
     "metadata": {},
     "output_type": "execute_result"
    }
   ],
   "source": [
    "# 2.Print the name of the 31st track.\n",
    "\n",
    "my_list = data['contents']['items']\n",
    "my_list[30]['name']"
   ]
  },
  {
   "cell_type": "code",
   "execution_count": 63,
   "id": "924e72c9-3138-4f2a-b8c3-c4ea8ab90d78",
   "metadata": {},
   "outputs": [
    {
     "data": {
      "text/plain": [
       "31309112207"
      ]
     },
     "execution_count": 63,
     "metadata": {},
     "output_type": "execute_result"
    }
   ],
   "source": [
    "# 3.In these 50 tracks, what is the total playcount? Print the number only.\n",
    "\n",
    "total_playcount = 0\n",
    "\n",
    "for i in range(len(my_list)):\n",
    "    total_playcount += my_list[i]['playCount']\n",
    "    \n",
    "total_playcount"
   ]
  },
  {
   "cell_type": "code",
   "execution_count": 65,
   "id": "0aedf2d9-0832-4a65-828a-891b38bed31b",
   "metadata": {},
   "outputs": [
    {
     "name": "stdout",
     "output_type": "stream",
     "text": [
      "24413575\n"
     ]
    }
   ],
   "source": [
    "# 4. Which track has the lowest playcount? Print it out in this format: \"The lowest playcount is {song_name}.\"\n",
    "\n",
    "# Solution 1:\n",
    "\n",
    "actual_playcount = 0\n",
    "min_playcount = my_list[0]['playCount']\n",
    "\n",
    "for i in range(len(my_list)):\n",
    "    actual_playcount = my_list[i]['playCount']\n",
    "    if actual_playcount < min_playcount:\n",
    "        min_playcount = actual_playcount\n",
    "\n",
    "print(min_playcount)"
   ]
  },
  {
   "cell_type": "code",
   "execution_count": 72,
   "id": "6b6bf886-ff68-4c6e-a820-81fa93f29324",
   "metadata": {},
   "outputs": [
    {
     "name": "stdout",
     "output_type": "stream",
     "text": [
      "24413575\n"
     ]
    }
   ],
   "source": [
    "# Solution 2:\n",
    "\n",
    "playcount_list = []\n",
    "\n",
    "for i in range(len(my_list)):\n",
    "    playcount_list.append(my_list[i]['playCount'])\n",
    "    \n",
    "print(min(playcount_list))"
   ]
  }
 ],
 "metadata": {
  "kernelspec": {
   "display_name": "Python 3 (ipykernel)",
   "language": "python",
   "name": "python3"
  },
  "language_info": {
   "codemirror_mode": {
    "name": "ipython",
    "version": 3
   },
   "file_extension": ".py",
   "mimetype": "text/x-python",
   "name": "python",
   "nbconvert_exporter": "python",
   "pygments_lexer": "ipython3",
   "version": "3.12.4"
  }
 },
 "nbformat": 4,
 "nbformat_minor": 5
}
