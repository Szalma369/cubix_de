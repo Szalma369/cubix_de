{
 "cells": [
  {
   "cell_type": "markdown",
   "id": "29335850-0b52-4153-9037-e93f7110dfcc",
   "metadata": {},
   "source": [
    "#### Task 1: Which 10 companies make the most money? Use two columns: Company name and the sum of the fare. Order by descending order. Make sure that the sum of the fares (total_fare) is not in scientific notation."
   ]
  },
  {
   "cell_type": "code",
   "execution_count": null,
   "id": "62ae053d-4fcf-4ac0-a3a9-70bccaf4dcb0",
   "metadata": {},
   "outputs": [],
   "source": [
    "'''\n",
    "SELECT \n",
    "    c.company AS company_name, \n",
    "    ROUND(SUM(tt.fare), 2) AS total_fare\n",
    "FROM \n",
    "    chicago_taxi_db.taxi_trips tt\n",
    "INNER JOIN \n",
    "    chicago_taxi_db.company c \n",
    "    ON tt.company_id = c.company_id\n",
    "GROUP BY \n",
    "    c.company\n",
    "ORDER BY \n",
    "    total_fare DESC\n",
    "LIMIT 10;\n",
    "'''"
   ]
  },
  {
   "cell_type": "markdown",
   "id": "f8f4b61a-7721-4cb2-a774-c8ca21b0612a",
   "metadata": {},
   "source": [
    "#### Task 2: Show the 10 pickup community areas with the most rides. Use two columns: community area name and count of rides per area, in descending order for the rides."
   ]
  },
  {
   "cell_type": "code",
   "execution_count": null,
   "id": "42a9b3b9-691f-4e64-91d8-62aae19bd768",
   "metadata": {},
   "outputs": [],
   "source": [
    "'''\n",
    "SELECT\n",
    "    ca.community_name,\n",
    "    COUNT(tt.trip_id) AS count_of_rides\n",
    "FROM\n",
    "    chicago_taxi_db.taxi_trips tt\n",
    "INNER JOIN\n",
    "    chicago_taxi_db.community_areas ca\n",
    "    ON tt.pickup_community_area_id = ca.area_code\n",
    "GROUP BY\n",
    "    ca.community_name\n",
    "ORDER BY\n",
    "    count_of_rides DESC\n",
    "LIMIT 10;\n",
    "'''"
   ]
  },
  {
   "cell_type": "markdown",
   "id": "cd61764f-30cf-4d14-992b-d8bd73738990",
   "metadata": {},
   "source": [
    "#### Task 3: Get the count of taxi rides per day of week. In other words, we'd like to see which day has the most rides. Use the names of the days instead of numbers (Monday = 1, Tuesday = 2, etc.). HINT: Check CASE WHEN statements for replacing names of days. For ordering the results by the day you can use MIN(day_of_the_week)."
   ]
  },
  {
   "cell_type": "code",
   "execution_count": null,
   "id": "98f2af37-5fa7-403e-abb5-24c4524b48da",
   "metadata": {},
   "outputs": [],
   "source": [
    "'''\n",
    "SELECT\n",
    "    CASE DAY_OF_WEEK(datetime_for_weather)\n",
    "        WHEN 1 THEN 'Monday'\n",
    "        WHEN 2 THEN 'Tuesday'\n",
    "        WHEN 3 THEN 'Wednesday'\n",
    "        WHEN 4 THEN 'Thursday'\n",
    "        WHEN 5 THEN 'Friday'\n",
    "        WHEN 6 THEN 'Saturday'\n",
    "        ELSE 'Sunday'\n",
    "    END AS weekdays,\n",
    "    COUNT(trip_id) AS count_of_rides\n",
    "FROM\n",
    "    chicago_taxi_db.taxi_trips\n",
    "GROUP BY\n",
    "    DAY_OF_WEEK(datetime_for_weather)\n",
    "ORDER BY\n",
    "    count_of_rides DESC;\n",
    "'''"
   ]
  }
 ],
 "metadata": {
  "kernelspec": {
   "display_name": "Python 3 (ipykernel)",
   "language": "python",
   "name": "python3"
  },
  "language_info": {
   "codemirror_mode": {
    "name": "ipython",
    "version": 3
   },
   "file_extension": ".py",
   "mimetype": "text/x-python",
   "name": "python",
   "nbconvert_exporter": "python",
   "pygments_lexer": "ipython3",
   "version": "3.12.4"
  }
 },
 "nbformat": 4,
 "nbformat_minor": 5
}
